{
 "cells": [
  {
   "cell_type": "code",
   "execution_count": 1,
   "id": "43273a64",
   "metadata": {},
   "outputs": [],
   "source": [
    "import pandas as pd\n",
    "from sklearn.linear_model import LogisticRegression\n",
    "from sklearn.model_selection import train_test_split\n",
    "from sklearn.feature_extraction.text import TfidfVectorizer\n",
    "from sklearn.naive_bayes import MultinomialNB\n",
    "from sklearn.tree import DecisionTreeClassifier\n",
    "from sklearn.feature_extraction.text import CountVectorizer\n",
    "from sklearn.metrics import accuracy_score\n",
    "from sklearn.ensemble  import RandomForestClassifier"
   ]
  },
  {
   "cell_type": "code",
   "execution_count": 2,
   "id": "36f09dc1",
   "metadata": {},
   "outputs": [],
   "source": [
    "rf=RandomForestClassifier(random_state=1)\n",
    "lr=LogisticRegression()\n",
    "nb=MultinomialNB()\n",
    "dt=DecisionTreeClassifier(random_state=0)"
   ]
  },
  {
   "cell_type": "code",
   "execution_count": 3,
   "id": "0830d9e2",
   "metadata": {},
   "outputs": [],
   "source": [
    "d_c =[\"moroccan\",\"korean\",\"japanese\",\"vietnamese\",\"brazilian\",\"southern_us\",\"british\",\"cajun_creole\",\"chinese\",\"filipino\",\"french\",\"greek\",\"indian\",\"spanish\",\"irish\",\"russian\",\"noroccan\",\"italian\",\"thai\",\"mexican\",\"jamaican\"]\n",
    "df=pd.read_json(\"C:\\\\Users\\\\parth\\\\Downloads\\\\Internship\\\\whats-cooking\\\\train.json\")"
   ]
  },
  {
   "cell_type": "code",
   "execution_count": 4,
   "id": "f50a6202",
   "metadata": {},
   "outputs": [
    {
     "name": "stdout",
     "output_type": "stream",
     "text": [
      "['greek' 'southern_us' 'filipino' 'indian' 'jamaican' 'spanish' 'italian'\n",
      " 'mexican' 'chinese' 'british' 'thai' 'vietnamese' 'cajun_creole'\n",
      " 'brazilian' 'french' 'japanese' 'irish' 'korean' 'moroccan' 'russian']\n"
     ]
    }
   ],
   "source": [
    "print(df[\"cuisine\"].unique())\n",
    "x=df['ingredients']\n",
    "y=df['cuisine'].apply(d_c.index)"
   ]
  },
  {
   "cell_type": "code",
   "execution_count": 5,
   "id": "1041379d",
   "metadata": {},
   "outputs": [],
   "source": [
    "df['all_ingredients']=df['ingredients'].map(\";\".join)\n",
    "cv=CountVectorizer()\n",
    "x=cv.fit_transform(df['all_ingredients'].values)"
   ]
  },
  {
   "cell_type": "code",
   "execution_count": 6,
   "id": "d1a938e2",
   "metadata": {},
   "outputs": [],
   "source": [
    "X_train,X_test,y_train,y_test=train_test_split(x,y,random_state=0,test_size=0.3)"
   ]
  },
  {
   "cell_type": "code",
   "execution_count": 7,
   "id": "17cbc75d",
   "metadata": {},
   "outputs": [],
   "source": [
    "rf.fit(X_train,y_train)\n",
    "r_pred=rf.predict(X_test)"
   ]
  },
  {
   "cell_type": "code",
   "execution_count": 8,
   "id": "07bf5d48",
   "metadata": {},
   "outputs": [
    {
     "name": "stdout",
     "output_type": "stream",
     "text": [
      "Random Forest: 0.7541272102572698\n"
     ]
    }
   ],
   "source": [
    "print(\"Random Forest:\",accuracy_score(y_test,r_pred))"
   ]
  }
 ],
 "metadata": {
  "kernelspec": {
   "display_name": "Python 3 (ipykernel)",
   "language": "python",
   "name": "python3"
  },
  "language_info": {
   "codemirror_mode": {
    "name": "ipython",
    "version": 3
   },
   "file_extension": ".py",
   "mimetype": "text/x-python",
   "name": "python",
   "nbconvert_exporter": "python",
   "pygments_lexer": "ipython3",
   "version": "3.10.9"
  }
 },
 "nbformat": 4,
 "nbformat_minor": 5
}
